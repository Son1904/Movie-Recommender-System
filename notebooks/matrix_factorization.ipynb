{
 "cells": [
  {
   "cell_type": "markdown",
   "id": "5f3260f5",
   "metadata": {},
   "source": [
    "# Matrix Factorization Techniques\n",
    "\n",
    "**Objectives:**\n",
    "- Implement SVD (Singular Value Decomposition)\n",
    "- Implement NMF (Non-negative Matrix Factorization)\n",
    "- Implement SVD++ (with implicit feedback)\n",
    "- Compare performance with collaborative filtering baselines\n",
    "- Analyze interpretability and latent factors"
   ]
  },
  {
   "cell_type": "code",
   "execution_count": 1,
   "id": "c91758b9",
   "metadata": {},
   "outputs": [],
   "source": [
    "# Import required libraries\n",
    "import pandas as pd\n",
    "import numpy as np\n",
    "import matplotlib.pyplot as plt\n",
    "import seaborn as sns\n",
    "from sklearn.metrics import mean_squared_error, mean_absolute_error\n",
    "from sklearn.decomposition import TruncatedSVD, NMF\n",
    "from scipy.sparse import csr_matrix\n",
    "import pickle\n",
    "import time\n",
    "from typing import Dict, List, Tuple, Optional\n",
    "import warnings\n",
    "warnings.filterwarnings('ignore')\n",
    "\n",
    "np.random.seed(42)\n",
    "plt.style.use('default')\n",
    "sns.set_palette(\"husl\")\n",
    "plt.rcParams['figure.figsize'] = (12, 8)"
   ]
  },
  {
   "cell_type": "markdown",
   "id": "f119171c",
   "metadata": {},
   "source": [
    "## 1. Data Loading and Preparation\n",
    "Load processed data and create utility matrix for matrix factorization."
   ]
  },
  {
   "cell_type": "code",
   "execution_count": 2,
   "id": "02d6263b",
   "metadata": {},
   "outputs": [
    {
     "name": "stdout",
     "output_type": "stream",
     "text": [
      "📊 Utility Matrix Shape: (453, 7056)\n"
     ]
    }
   ],
   "source": [
    "# Load processed data\n",
    "def load_processed_data():\n",
    "    try:\n",
    "        train_data = pd.read_csv('../data/processed/train_data.csv')\n",
    "        val_data = pd.read_csv('../data/processed/val_data.csv')\n",
    "        test_data = pd.read_csv('../data/processed/test_data.csv')\n",
    "        return train_data, val_data, test_data\n",
    "    except FileNotFoundError as e:\n",
    "        print(f'❌ Error loading data: {e}')\n",
    "        return None, None, None\n",
    "\n",
    "train_data, val_data, test_data = load_processed_data()\n",
    "\n",
    "def create_utility_matrix(data: pd.DataFrame, fill_value=0):\n",
    "    utility_matrix = data.pivot_table(index='userId', columns='movieId', values='rating', fill_value=fill_value)\n",
    "    print(f'📊 Utility Matrix Shape: {utility_matrix.shape}')\n",
    "    return utility_matrix\n",
    "\n",
    "train_matrix = create_utility_matrix(train_data)"
   ]
  },
  {
   "cell_type": "markdown",
   "id": "b5626105",
   "metadata": {},
   "source": [
    "## 2. SVD (Singular Value Decomposition) Implementation"
   ]
  },
  {
   "cell_type": "code",
   "execution_count": 3,
   "id": "6138e72c",
   "metadata": {},
   "outputs": [
    {
     "name": "stdout",
     "output_type": "stream",
     "text": [
      "🔧 Running SVD with n_components=20...\n",
      "✅ SVD completed. Explained variance ratio: 0.4262\n"
     ]
    }
   ],
   "source": [
    "# SVD Implementation\n",
    "def svd_recommender(utility_matrix, n_components=20):\n",
    "    print(f'🔧 Running SVD with n_components={n_components}...')\n",
    "    svd = TruncatedSVD(n_components=n_components, random_state=42)\n",
    "    U = svd.fit_transform(utility_matrix)\n",
    "    Sigma = svd.singular_values_\n",
    "    VT = svd.components_\n",
    "    print(f'✅ SVD completed. Explained variance ratio: {svd.explained_variance_ratio_.sum():.4f}')\n",
    "    return U, Sigma, VT, svd\n",
    "\n",
    "U, Sigma, VT, svd_model = svd_recommender(train_matrix, n_components=20)"
   ]
  },
  {
   "cell_type": "markdown",
   "id": "764d3167",
   "metadata": {},
   "source": [
    "## 3. NMF (Non-negative Matrix Factorization) Implementation"
   ]
  },
  {
   "cell_type": "code",
   "execution_count": 4,
   "id": "cde153de",
   "metadata": {},
   "outputs": [
    {
     "name": "stdout",
     "output_type": "stream",
     "text": [
      "🔧 Running NMF with n_components=20...\n",
      "✅ NMF completed. Reconstruction error: 713.2141\n"
     ]
    }
   ],
   "source": [
    "# NMF Implementation\n",
    "def nmf_recommender(utility_matrix, n_components=20):\n",
    "    print(f'🔧 Running NMF with n_components={n_components}...')\n",
    "    nmf = NMF(n_components=n_components, init='random', random_state=42, max_iter=200)\n",
    "    W = nmf.fit_transform(utility_matrix)\n",
    "    H = nmf.components_\n",
    "    print(f'✅ NMF completed. Reconstruction error: {nmf.reconstruction_err_:.4f}')\n",
    "    return W, H, nmf\n",
    "\n",
    "W, H, nmf_model = nmf_recommender(train_matrix, n_components=20)"
   ]
  },
  {
   "cell_type": "markdown",
   "id": "b7f4c9d7",
   "metadata": {},
   "source": [
    "## 4. SVD++ (with implicit feedback) - Placeholder\n",
    "(SVD++ sẽ được implement bằng thư viện Surprise hoặc custom nếu cần)"
   ]
  },
  {
   "cell_type": "code",
   "execution_count": 5,
   "id": "779f162a",
   "metadata": {},
   "outputs": [
    {
     "name": "stdout",
     "output_type": "stream",
     "text": [
      "🔧 Initializing Matrix Factorization models...\n",
      "🚀 Training SVD model...\n",
      "✅ SVD training completed\n",
      "🚀 Training NMF model...\n",
      "✅ NMF training completed\n",
      "✅ NMF training completed\n"
     ]
    }
   ],
   "source": [
    "# Matrix Factorization Evaluation and Comparison\n",
    "\n",
    "class MatrixFactorizationRecommender:\n",
    "    \"\"\"Wrapper class for matrix factorization recommendations\"\"\"\n",
    "    \n",
    "    def __init__(self, model_type='svd', n_components=20):\n",
    "        self.model_type = model_type\n",
    "        self.n_components = n_components\n",
    "        self.model = None\n",
    "        self.utility_matrix = None\n",
    "        self.reconstructed_matrix = None\n",
    "        \n",
    "    def fit(self, utility_matrix):\n",
    "        \"\"\"Train the matrix factorization model\"\"\"\n",
    "        self.utility_matrix = utility_matrix\n",
    "        \n",
    "        if self.model_type == 'svd':\n",
    "            from sklearn.decomposition import TruncatedSVD\n",
    "            self.model = TruncatedSVD(n_components=self.n_components, random_state=42)\n",
    "            user_factors = self.model.fit_transform(utility_matrix)\n",
    "            self.reconstructed_matrix = pd.DataFrame(\n",
    "                self.model.inverse_transform(user_factors),\n",
    "                index=utility_matrix.index,\n",
    "                columns=utility_matrix.columns\n",
    "            )\n",
    "            \n",
    "        elif self.model_type == 'nmf':\n",
    "            from sklearn.decomposition import NMF\n",
    "            self.model = NMF(n_components=self.n_components, init='random', random_state=42, max_iter=200)\n",
    "            user_factors = self.model.fit_transform(utility_matrix)\n",
    "            item_factors = self.model.components_\n",
    "            self.reconstructed_matrix = pd.DataFrame(\n",
    "                np.dot(user_factors, item_factors),\n",
    "                index=utility_matrix.index,\n",
    "                columns=utility_matrix.columns\n",
    "            )\n",
    "    \n",
    "    def predict(self, user_id, movie_id):\n",
    "        \"\"\"Predict rating for user-movie pair\"\"\"\n",
    "        if user_id in self.reconstructed_matrix.index and movie_id in self.reconstructed_matrix.columns:\n",
    "            prediction = self.reconstructed_matrix.loc[user_id, movie_id]\n",
    "            return np.clip(prediction, 0.5, 5.0)\n",
    "        else:\n",
    "            return 3.0  # Default rating\n",
    "    \n",
    "    def recommend(self, user_id, n_recommendations=10, exclude_seen=True):\n",
    "        \"\"\"Generate top-N recommendations\"\"\"\n",
    "        if user_id not in self.reconstructed_matrix.index:\n",
    "            return []\n",
    "        \n",
    "        user_predictions = self.reconstructed_matrix.loc[user_id]\n",
    "        \n",
    "        if exclude_seen:\n",
    "            # Exclude movies user has already rated\n",
    "            user_ratings = self.utility_matrix.loc[user_id]\n",
    "            unseen_movies = user_ratings[user_ratings == 0].index\n",
    "            user_predictions = user_predictions[unseen_movies]\n",
    "        \n",
    "        # Sort and return top N\n",
    "        top_recommendations = user_predictions.sort_values(ascending=False).head(n_recommendations)\n",
    "        return [(movie_id, rating) for movie_id, rating in top_recommendations.items()]\n",
    "\n",
    "# Initialize models\n",
    "print(\"🔧 Initializing Matrix Factorization models...\")\n",
    "svd_recommender = MatrixFactorizationRecommender(model_type='svd', n_components=20)\n",
    "nmf_recommender = MatrixFactorizationRecommender(model_type='nmf', n_components=20)\n",
    "\n",
    "# Train models\n",
    "print(\"🚀 Training SVD model...\")\n",
    "svd_recommender.fit(train_matrix)\n",
    "print(\"✅ SVD training completed\")\n",
    "\n",
    "print(\"🚀 Training NMF model...\")\n",
    "nmf_recommender.fit(train_matrix)\n",
    "print(\"✅ NMF training completed\")"
   ]
  },
  {
   "cell_type": "markdown",
   "id": "f7c2170d",
   "metadata": {},
   "source": [
    "## 5. Performance Evaluation and Comparison\n",
    "\n",
    "Evaluate SVD and NMF against previous collaborative filtering methods."
   ]
  },
  {
   "cell_type": "code",
   "execution_count": 6,
   "id": "c8d489fc",
   "metadata": {},
   "outputs": [
    {
     "name": "stdout",
     "output_type": "stream",
     "text": [
      "📊 Evaluating SVD...\n",
      "✅ SVD Results:\n",
      "  📈 RMSE: 1.4874\n",
      "  📈 MAE: 1.2293\n",
      "  📊 Test Samples: 200\n",
      "📊 Evaluating NMF...\n",
      "✅ NMF Results:\n",
      "  📈 RMSE: 1.4872\n",
      "  📈 MAE: 1.2293\n",
      "  📊 Test Samples: 200\n"
     ]
    }
   ],
   "source": [
    "# Evaluation function for matrix factorization\n",
    "def evaluate_matrix_factorization(model, test_data, model_name, n_test_samples=200):\n",
    "    \"\"\"Evaluate matrix factorization model\"\"\"\n",
    "    print(f\"📊 Evaluating {model_name}...\")\n",
    "    \n",
    "    predictions = []\n",
    "    actuals = []\n",
    "    \n",
    "    # Sample test pairs\n",
    "    test_sample = test_data.sample(n=min(n_test_samples, len(test_data)), random_state=42)\n",
    "    \n",
    "    for _, row in test_sample.iterrows():\n",
    "        user_id = row['userId']\n",
    "        movie_id = row['movieId']\n",
    "        actual_rating = row['rating']\n",
    "        \n",
    "        try:\n",
    "            predicted_rating = model.predict(user_id, movie_id)\n",
    "            predictions.append(predicted_rating)\n",
    "            actuals.append(actual_rating)\n",
    "        except:\n",
    "            continue\n",
    "    \n",
    "    if len(predictions) == 0:\n",
    "        print(f\"⚠️  No valid predictions for {model_name}\")\n",
    "        return None\n",
    "    \n",
    "    # Calculate metrics\n",
    "    rmse = np.sqrt(mean_squared_error(actuals, predictions))\n",
    "    mae = mean_absolute_error(actuals, predictions)\n",
    "    \n",
    "    print(f\"✅ {model_name} Results:\")\n",
    "    print(f\"  📈 RMSE: {rmse:.4f}\")\n",
    "    print(f\"  📈 MAE: {mae:.4f}\")\n",
    "    print(f\"  📊 Test Samples: {len(predictions)}\")\n",
    "    \n",
    "    return {\n",
    "        'model_name': model_name,\n",
    "        'rmse': rmse,\n",
    "        'mae': mae,\n",
    "        'n_samples': len(predictions),\n",
    "        'predictions': predictions,\n",
    "        'actuals': actuals\n",
    "    }\n",
    "\n",
    "# Evaluate models\n",
    "svd_results = evaluate_matrix_factorization(svd_recommender, val_data, \"SVD\")\n",
    "nmf_results = evaluate_matrix_factorization(nmf_recommender, val_data, \"NMF\")"
   ]
  },
  {
   "cell_type": "code",
   "execution_count": 7,
   "id": "36ee03ae",
   "metadata": {},
   "outputs": [
    {
     "name": "stdout",
     "output_type": "stream",
     "text": [
      "🎯 Testing Recommendations...\n",
      "👤 Sample User: 1\n",
      "\\n🔧 SVD Top 5 Recommendations:\n",
      "  1. Movie 589: 4.14⭐\n",
      "  2. Movie 858: 3.57⭐\n",
      "  3. Movie 1200: 3.49⭐\n",
      "  4. Movie 1259: 3.48⭐\n",
      "  5. Movie 1968: 3.47⭐\n",
      "\\n🔧 NMF Top 5 Recommendations:\n",
      "  1. Movie 589: 4.86⭐\n",
      "  2. Movie 1200: 4.50⭐\n",
      "  3. Movie 1036: 3.41⭐\n",
      "  4. Movie 1374: 3.24⭐\n",
      "  5. Movie 541: 3.22⭐\n"
     ]
    },
    {
     "data": {
      "image/png": "[encoded data removed]",
      "text/plain": [
       "<Figure size 1500x600 with 2 Axes>"
      ]
     },
     "metadata": {},
     "output_type": "display_data"
    },
    {
     "name": "stdout",
     "output_type": "stream",
     "text": [
      "\\n============================================================\n",
      "🏆 MATRIX FACTORIZATION RESULTS\n",
      "============================================================\n",
      "\\n📊 Performance Comparison:\n",
      "┌─────────────────┬──────────┬──────────┬────────────┐\n",
      "│ Model           │   RMSE   │   MAE    │  Samples   │\n",
      "├─────────────────┼──────────┼──────────┼────────────┤\n",
      "│ SVD             │   1.4874 │   1.2293 │        200 │\n",
      "│ NMF             │   1.4872 │   1.2293 │        200 │\n",
      "└─────────────────┴──────────┴──────────┴────────────┘\n",
      "\\n🏆 Winner: 🥇 NMF\n",
      "📈 Performance Improvement: 0.01%\n",
      "\\n✅ Week 6 Matrix Factorization Objectives:\n",
      "  ✅ SVD implementation completed\n",
      "  ✅ NMF implementation completed\n",
      "  ✅ Performance evaluation completed\n",
      "  ✅ Recommendation generation successful\n"
     ]
    }
   ],
   "source": [
    "# Test recommendations\n",
    "print(\"🎯 Testing Recommendations...\")\n",
    "\n",
    "# Sample user for testing\n",
    "sample_user = train_matrix.index[0]\n",
    "print(f\"👤 Sample User: {sample_user}\")\n",
    "\n",
    "# Get recommendations from both models\n",
    "svd_recs = svd_recommender.recommend(sample_user, n_recommendations=5)\n",
    "nmf_recs = nmf_recommender.recommend(sample_user, n_recommendations=5)\n",
    "\n",
    "print(f\"\\\\n🔧 SVD Top 5 Recommendations:\")\n",
    "for i, (movie_id, rating) in enumerate(svd_recs, 1):\n",
    "    print(f\"  {i}. Movie {movie_id}: {rating:.2f}⭐\")\n",
    "\n",
    "print(f\"\\\\n🔧 NMF Top 5 Recommendations:\")\n",
    "for i, (movie_id, rating) in enumerate(nmf_recs, 1):\n",
    "    print(f\"  {i}. Movie {movie_id}: {rating:.2f}⭐\")\n",
    "\n",
    "# Visualization\n",
    "if svd_results and nmf_results:\n",
    "    fig, axes = plt.subplots(1, 2, figsize=(15, 6))\n",
    "    \n",
    "    models = [svd_results['model_name'], nmf_results['model_name']]\n",
    "    rmse_values = [svd_results['rmse'], nmf_results['rmse']]\n",
    "    mae_values = [svd_results['mae'], nmf_results['mae']]\n",
    "    \n",
    "    # RMSE Comparison\n",
    "    axes[0].bar(models, rmse_values, color=['skyblue', 'lightcoral'], alpha=0.7)\n",
    "    axes[0].set_title('RMSE Comparison - Matrix Factorization', fontsize=14, fontweight='bold')\n",
    "    axes[0].set_ylabel('RMSE')\n",
    "    axes[0].grid(True, alpha=0.3)\n",
    "    \n",
    "    for i, v in enumerate(rmse_values):\n",
    "        axes[0].text(i, v + 0.01, f'{v:.4f}', ha='center', va='bottom', fontweight='bold')\n",
    "    \n",
    "    # MAE Comparison\n",
    "    axes[1].bar(models, mae_values, color=['lightgreen', 'orange'], alpha=0.7)\n",
    "    axes[1].set_title('MAE Comparison - Matrix Factorization', fontsize=14, fontweight='bold')\n",
    "    axes[1].set_ylabel('MAE')\n",
    "    axes[1].grid(True, alpha=0.3)\n",
    "    \n",
    "    for i, v in enumerate(mae_values):\n",
    "        axes[1].text(i, v + 0.01, f'{v:.4f}', ha='center', va='bottom', fontweight='bold')\n",
    "    \n",
    "    plt.tight_layout()\n",
    "    plt.show()\n",
    "    \n",
    "    # Summary\n",
    "    print(\"\\\\n\" + \"=\"*60)\n",
    "    print(\"🏆 MATRIX FACTORIZATION RESULTS\")\n",
    "    print(\"=\"*60)\n",
    "    \n",
    "    print(f\"\\\\n📊 Performance Comparison:\")\n",
    "    print(f\"┌─────────────────┬──────────┬──────────┬────────────┐\")\n",
    "    print(f\"│ Model           │   RMSE   │   MAE    │  Samples   │\")\n",
    "    print(f\"├─────────────────┼──────────┼──────────┼────────────┤\")\n",
    "    print(f\"│ SVD             │ {svd_results['rmse']:8.4f} │ {svd_results['mae']:8.4f} │ {svd_results['n_samples']:10d} │\")\n",
    "    print(f\"│ NMF             │ {nmf_results['rmse']:8.4f} │ {nmf_results['mae']:8.4f} │ {nmf_results['n_samples']:10d} │\")\n",
    "    print(f\"└─────────────────┴──────────┴──────────┴────────────┘\")\n",
    "    \n",
    "    # Determine winner\n",
    "    if svd_results['rmse'] < nmf_results['rmse']:\n",
    "        winner = \"🥇 SVD\"\n",
    "        improvement = ((nmf_results['rmse'] - svd_results['rmse']) / nmf_results['rmse']) * 100\n",
    "    else:\n",
    "        winner = \"🥇 NMF\"\n",
    "        improvement = ((svd_results['rmse'] - nmf_results['rmse']) / svd_results['rmse']) * 100\n",
    "    \n",
    "    print(f\"\\\\n🏆 Winner: {winner}\")\n",
    "    print(f\"📈 Performance Improvement: {improvement:.2f}%\")\n",
    "    \n",
    "    print(f\"\\\\n✅ Week 6 Matrix Factorization Objectives:\")\n",
    "    print(f\"  ✅ SVD implementation completed\")\n",
    "    print(f\"  ✅ NMF implementation completed\")\n",
    "    print(f\"  ✅ Performance evaluation completed\")\n",
    "    print(f\"  ✅ Recommendation generation successful\")\n",
    "    \n",
    "else:\n",
    "    print(\"⚠️  Evaluation incomplete\")"
   ]
  }
 ],
 "metadata": {
  "kernelspec": {
   "display_name": "Python 3",
   "language": "python",
   "name": "python3"
  },
  "language_info": {
   "codemirror_mode": {
    "name": "ipython",
    "version": 3
   },
   "file_extension": ".py",
   "mimetype": "text/x-python",
   "name": "python",
   "nbconvert_exporter": "python",
   "pygments_lexer": "ipython3",
   "version": "3.13.0"
  }
 },
 "nbformat": 4,
 "nbformat_minor": 5
}
